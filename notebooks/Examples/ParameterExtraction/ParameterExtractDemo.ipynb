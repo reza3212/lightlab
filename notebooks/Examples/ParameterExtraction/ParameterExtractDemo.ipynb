{
 "cells": [
  {
   "cell_type": "markdown",
   "metadata": {},
   "source": [
    "# Procedures, virtualization, abstract procedures\n",
    "\n",
    "Demonstration of using an actuate/measure procedure to get data and analyze something about the data.\n",
    "\n",
    "The procedure itself needs to be developed and debugged. This notebook shows how to do that virtually. When ready it goes to experiment by flipping a switch.\n",
    "\n",
    "## Experimental setup:"
   ]
  },
  {
   "cell_type": "markdown",
   "metadata": {},
   "source": [
    "<img src=\"ledHookup.png\" alt=\"LED\" style=\"width: 400px;\"/>"
   ]
  },
  {
   "cell_type": "code",
   "execution_count": 14,
   "metadata": {},
   "outputs": [
    {
     "name": "stdout",
     "output_type": "stream",
     "text": [
      "The autoreload extension is already loaded. To reload it, use:\n",
      "  %reload_ext autoreload\n"
     ]
    }
   ],
   "source": [
    "# Reload modules every time code is called. Set autoreload 0 to disable\n",
    "%load_ext autoreload\n",
    "%autoreload 2\n",
    "import numpy as np\n",
    "import matplotlib.pyplot as plt\n",
    "from IPython import display\n",
    "\n",
    "from lightlab.laboratory.virtualization import VirtualInstrument, DualInstrument\n",
    "import lightlab.laboratory.virtualization as virtUtil"
   ]
  },
  {
   "cell_type": "markdown",
   "metadata": {},
   "source": [
    "## Semi-libraries\n",
    "That's what we're calling the files `myProcedures` and `myVirtuals`. These are python files in the same directory as this notebook that have some functions and classes. Import them to the notebook. You should be writing/developing them simultaneously with the notebook. This practice is recommended because .py files work well with `git diff` but .ipynb files do not. As a rule of thumb, don't put instrument access within the semi-libraries. You can use them for commonly used and/or long procedures, functions, sweep declarations, etc."
   ]
  },
  {
   "cell_type": "code",
   "execution_count": 1,
   "metadata": {},
   "outputs": [
    {
     "ename": "ImportError",
     "evalue": "cannot import name 'peakSearch' from 'lightlab.util.sweep' (c:\\users\\mrnez\\appdata\\local\\programs\\python\\python38-32\\lib\\site-packages\\lightlab\\util\\sweep.py)",
     "output_type": "error",
     "traceback": [
      "\u001b[1;31m---------------------------------------------------------------------------\u001b[0m",
      "\u001b[1;31mImportError\u001b[0m                               Traceback (most recent call last)",
      "\u001b[1;32m<ipython-input-1-af98d0a3aba6>\u001b[0m in \u001b[0;36m<module>\u001b[1;34m\u001b[0m\n\u001b[1;32m----> 1\u001b[1;33m \u001b[1;32mfrom\u001b[0m \u001b[0mmyProcedures\u001b[0m \u001b[1;32mimport\u001b[0m \u001b[0mextractThreshold_1\u001b[0m\u001b[1;33m,\u001b[0m \u001b[0mextractThreshold_2\u001b[0m\u001b[1;33m\u001b[0m\u001b[1;33m\u001b[0m\u001b[0m\n\u001b[0m",
      "\u001b[1;32m~\\OneDrive\\Documents\\GitHub\\lightlab\\notebooks\\Examples\\ParameterExtraction\\myProcedures.py\u001b[0m in \u001b[0;36m<module>\u001b[1;34m\u001b[0m\n\u001b[0;32m      1\u001b[0m \u001b[1;32mimport\u001b[0m \u001b[0mnumpy\u001b[0m \u001b[1;32mas\u001b[0m \u001b[0mnp\u001b[0m\u001b[1;33m\u001b[0m\u001b[1;33m\u001b[0m\u001b[0m\n\u001b[0;32m      2\u001b[0m \u001b[1;32mimport\u001b[0m \u001b[0mmatplotlib\u001b[0m\u001b[1;33m.\u001b[0m\u001b[0mpyplot\u001b[0m \u001b[1;32mas\u001b[0m \u001b[0mplt\u001b[0m\u001b[1;33m\u001b[0m\u001b[1;33m\u001b[0m\u001b[0m\n\u001b[1;32m----> 3\u001b[1;33m \u001b[1;32mfrom\u001b[0m \u001b[0mlightlab\u001b[0m\u001b[1;33m.\u001b[0m\u001b[0mutil\u001b[0m\u001b[1;33m.\u001b[0m\u001b[0msweep\u001b[0m \u001b[1;32mimport\u001b[0m \u001b[0mNdSweeper\u001b[0m\u001b[1;33m,\u001b[0m \u001b[0mpeakSearch\u001b[0m\u001b[1;33m\u001b[0m\u001b[1;33m\u001b[0m\u001b[0m\n\u001b[0m\u001b[0;32m      4\u001b[0m \u001b[1;33m\u001b[0m\u001b[0m\n\u001b[0;32m      5\u001b[0m \u001b[1;33m\u001b[0m\u001b[0m\n",
      "\u001b[1;31mImportError\u001b[0m: cannot import name 'peakSearch' from 'lightlab.util.sweep' (c:\\users\\mrnez\\appdata\\local\\programs\\python\\python38-32\\lib\\site-packages\\lightlab\\util\\sweep.py)"
     ]
    }
   ],
   "source": [
    "from myProcedures import extractThreshold_1, extractThreshold_2"
   ]
  },
  {
   "cell_type": "markdown",
   "metadata": {},
   "source": [
    "## This is a model of a diode\n",
    "It has \n",
    "* parameters, like threshold voltage\n",
    "* methods for simulating: this applied voltage will give that observed current\n",
    "    - apply (a.k.a. actuate) --> observe (a.k.a. measure)\n",
    "    \n",
    "It does not have state. \n",
    "- The observations are completely determined by the actuation _now_\n",
    "- This is not a requirement \n",
    "- The only reason for a simulation model to have state is if the device you are trying to model have hysteresis (or if you are caching)"
   ]
  },
  {
   "cell_type": "code",
   "execution_count": 19,
   "metadata": {},
   "outputs": [
    {
     "data": {
      "image/png": "[encoded data removed]",
      "text/plain": [
       "<Figure size 432x288 with 1 Axes>"
      ]
     },
     "metadata": {},
     "output_type": "display_data"
    },
    {
     "data": {
      "image/png": "[encoded data removed]",
      "text/plain": [
       "<Figure size 432x288 with 1 Axes>"
      ]
     },
     "metadata": {
      "needs_background": "light"
     },
     "output_type": "display_data"
    }
   ],
   "source": [
    "# To debug this procedure, you will simulate a diode similar to the real one\n",
    "class Diode():\n",
    "    def __init__(self, threshV, Rinline=10):\n",
    "        self.threshV = threshV\n",
    "        self.Rinline = Rinline\n",
    "        \n",
    "    def ivResponse(self, atVoltage):\n",
    "        return max(0, atVoltage - self.threshV) / self.Rinline\n",
    "    \n",
    "myDiode = Diode(threshV=.5)\n",
    "\n",
    "# Stone age evaluation\n",
    "fi, ax = plt.subplots(figsize=(6,4))         # line 0\n",
    "plt.xlabel('voltage')\n",
    "plt.ylabel('current')\n",
    "vArr = np.linspace(0, 1, 20)\n",
    "iArr = np.zeros(len(vArr))\n",
    "for jV, V in enumerate(vArr):\n",
    "    iArr[jV] = myDiode.ivResponse(V)\n",
    "    plt.plot(vArr[:jV], iArr[:jV], '.-')\n",
    "    display.clear_output(wait=True)\n",
    "    display.display(plt.gcf())               # 10 line for loop"
   ]
  },
  {
   "cell_type": "markdown",
   "metadata": {},
   "source": [
    "## The parameter extraction procedure\n",
    "A procedure consists of a sequence of actuation and measurement operations that interface with laboratory instruments. The actuation might be determined beforehand (i.e. sweep) or it could be changed depending on what is measured (i.e. search). \n",
    "\n",
    "The __procedure__ is often the most complicated part of your experimental code. The __procedure__ is what you are developing and debugging here\n",
    "\n",
    "### Example, a parameter extraction type of procedure\n",
    "In this example, we want to find the diode threshold voltage\n",
    "* Acquire: do a sweep in voltage, measuring current\n",
    "* Analyze: look for the maximum second-derivative\n",
    "\n",
    "### Notes\n",
    "- NdSweeper class (overkill for now) and the concept of passing methods as arguments\n",
    "- These methods are NOT called yet because\n",
    "    - we don't yet know if this procedure is real or virtual (it could be both)"
   ]
  },
  {
   "cell_type": "code",
   "execution_count": null,
   "metadata": {},
   "outputs": [],
   "source": [
    "extractThreshold_1?"
   ]
  },
  {
   "cell_type": "markdown",
   "metadata": {},
   "source": [
    "## The virtual instrument\n",
    "\n",
    "This class basically holds the state that is normally found in real life. It interacts with the simulation model.\n",
    "\n",
    "#### Why do you use the Virtual instrument instead of just using the simulator?\n",
    "Because this is the API for the real life instruments. You should not have to make\n",
    "* prodecure 1: experimental using instruments, and\n",
    "* procedure 2: virtual using a simulation model, calling things like `ivResponse()`\n",
    "\n",
    "`VirtualKeithley` provides the same API as `Keithley` (the real instrument class)"
   ]
  },
  {
   "cell_type": "code",
   "execution_count": 20,
   "metadata": {},
   "outputs": [],
   "source": [
    "class VirtualKeithley(VirtualInstrument):\n",
    "    def __init__(self, viResistiveRef):\n",
    "        self.viResistiveRef = viResistiveRef\n",
    "        self.__appliedVoltage = 0  # state\n",
    "\n",
    "    def setVoltage(self, volts):\n",
    "        self.__appliedVoltage = volts\n",
    "\n",
    "    def measCurrent(self):\n",
    "        return self.viResistiveRef.ivResponse(self.__appliedVoltage)"
   ]
  },
  {
   "cell_type": "markdown",
   "metadata": {},
   "source": [
    "#### Running it\n",
    "Make a diode model, connect it to the virtual keithley, execute the procedure. Then, get the extracted parameter from the procedure. Compare it to the hidden one. We are now _evaluating_ a procedure."
   ]
  },
  {
   "cell_type": "code",
   "execution_count": 21,
   "metadata": {},
   "outputs": [
    {
     "ename": "NameError",
     "evalue": "name 'extractThreshold_1' is not defined",
     "output_type": "error",
     "traceback": [
      "\u001b[1;31m---------------------------------------------------------------------------\u001b[0m",
      "\u001b[1;31mNameError\u001b[0m                                 Traceback (most recent call last)",
      "\u001b[1;32m<ipython-input-21-f47bede8f595>\u001b[0m in \u001b[0;36m<module>\u001b[1;34m\u001b[0m\n\u001b[0;32m      3\u001b[0m \u001b[0mkeithley\u001b[0m \u001b[1;33m=\u001b[0m \u001b[0mVirtualKeithley\u001b[0m\u001b[1;33m(\u001b[0m\u001b[0mviResistiveRef\u001b[0m\u001b[1;33m=\u001b[0m\u001b[0mmyDiode\u001b[0m\u001b[1;33m)\u001b[0m\u001b[1;33m\u001b[0m\u001b[1;33m\u001b[0m\u001b[0m\n\u001b[0;32m      4\u001b[0m \u001b[1;33m\u001b[0m\u001b[0m\n\u001b[1;32m----> 5\u001b[1;33m \u001b[0mfoundThresh\u001b[0m \u001b[1;33m=\u001b[0m \u001b[0mextractThreshold_1\u001b[0m\u001b[1;33m(\u001b[0m\u001b[0mkeithley\u001b[0m\u001b[1;33m,\u001b[0m \u001b[0mvMax\u001b[0m\u001b[1;33m=\u001b[0m\u001b[1;36m3\u001b[0m\u001b[1;33m)\u001b[0m\u001b[1;33m\u001b[0m\u001b[1;33m\u001b[0m\u001b[0m\n\u001b[0m\u001b[0;32m      6\u001b[0m \u001b[0merr\u001b[0m \u001b[1;33m=\u001b[0m \u001b[0mfoundThresh\u001b[0m \u001b[1;33m-\u001b[0m \u001b[0mhiddenThresh\u001b[0m\u001b[1;33m\u001b[0m\u001b[1;33m\u001b[0m\u001b[0m\n\u001b[0;32m      7\u001b[0m \u001b[0mprint\u001b[0m\u001b[1;33m(\u001b[0m\u001b[1;34m'Error ='\u001b[0m\u001b[1;33m,\u001b[0m \u001b[0mabs\u001b[0m\u001b[1;33m(\u001b[0m\u001b[0merr\u001b[0m\u001b[1;33m)\u001b[0m \u001b[1;33m/\u001b[0m \u001b[0mhiddenThresh\u001b[0m \u001b[1;33m*\u001b[0m \u001b[1;36m100\u001b[0m\u001b[1;33m,\u001b[0m \u001b[1;34m'percent'\u001b[0m\u001b[1;33m)\u001b[0m\u001b[1;33m\u001b[0m\u001b[1;33m\u001b[0m\u001b[0m\n",
      "\u001b[1;31mNameError\u001b[0m: name 'extractThreshold_1' is not defined"
     ]
    }
   ],
   "source": [
    "hiddenThresh = 1.5\n",
    "myDiode = Diode(hiddenThresh)\n",
    "keithley = VirtualKeithley(viResistiveRef=myDiode)\n",
    "\n",
    "foundThresh = extractThreshold_1(keithley, vMax=3)\n",
    "err = foundThresh - hiddenThresh\n",
    "print('Error =', abs(err) / hiddenThresh * 100, 'percent')"
   ]
  },
  {
   "cell_type": "markdown",
   "metadata": {},
   "source": [
    "## Using an abstract procedure: peakfinder\n",
    "#### Passing functions as arguments, even if those functions are also procedures!\n",
    "\n",
    "Let's do a more complicated procedure that actually needs some development. It will employ an abstract procedure: peak seaching.\n",
    "\n",
    "Above, we defined threshold by the maximum second-derivative of current vs. voltage. The procedure did a sweep and then took the second derivative of the gathered data. The problem is that most of the points were unused, and the accuracy was not very good because the actual threshold falls between two points.\n",
    "\n",
    "#### New procedure\n",
    "This is an interactive search to find the peak second-derivative. For a given center voltage, three voltages are applied, which is enough to approximate a second-derivative at that point. That is dithering. The dither function is used with `lightlab`'s peak searcher (Nelder-Meade/swarm) to quickly and very accurately find the threshold."
   ]
  },
  {
   "cell_type": "code",
   "execution_count": null,
   "metadata": {},
   "outputs": [],
   "source": [
    "foundThresh = extractThreshold_2(keithley)\n",
    "err = foundThresh - hiddenThresh\n",
    "print('Error =', err / hiddenThresh * 100, 'percent')"
   ]
  },
  {
   "cell_type": "markdown",
   "metadata": {},
   "source": [
    "## Warning the following cells access real instruments\n",
    "(This warning should be apparent in all your notebooks)\n",
    "\n",
    "You can prevent any hardware access using the `virtualization.virtualOnly` variable."
   ]
  },
  {
   "cell_type": "code",
   "execution_count": null,
   "metadata": {},
   "outputs": [],
   "source": [
    "virtUtil.virtualOnly = True"
   ]
  },
  {
   "cell_type": "markdown",
   "metadata": {},
   "source": [
    "### The hardware instrument\n",
    "Is pulled from the instruments_dict. In this case, \"Keithley 23.\" You need to build this dict elsewhere using the tools from `lightlab.laboratory.state`. We don't just want a `VirtualInstrument`, we want something that can switch between virtual and real on the fly. That is a `DualInstrument`."
   ]
  },
  {
   "cell_type": "code",
   "execution_count": 16,
   "metadata": {},
   "outputs": [
    {
     "name": "stderr",
     "output_type": "stream",
     "text": [
      "2020-08-18 19:34:12,149 - WARNING - lightlab:\n",
      "\tC:\\Users\\mrnez\\.lightlab\\labstate.json is empty.\n",
      "2020-08-18 19:34:12,150 - WARNING - lightlab:\n",
      "\tStarting fresh new LabState(). Save for the first time with lab._saveState()\n"
     ]
    },
    {
     "ename": "KeyError",
     "evalue": "'Keithley 23'",
     "output_type": "error",
     "traceback": [
      "\u001b[1;31m---------------------------------------------------------------------------\u001b[0m",
      "\u001b[1;31mKeyError\u001b[0m                                  Traceback (most recent call last)",
      "\u001b[1;32m<ipython-input-16-f731cde5b01b>\u001b[0m in \u001b[0;36m<module>\u001b[1;34m\u001b[0m\n\u001b[0;32m      1\u001b[0m \u001b[1;32mif\u001b[0m \u001b[1;32mnot\u001b[0m \u001b[0mvirtUtil\u001b[0m\u001b[1;33m.\u001b[0m\u001b[0mvirtualOnly\u001b[0m\u001b[1;33m:\u001b[0m\u001b[1;33m\u001b[0m\u001b[1;33m\u001b[0m\u001b[0m\n\u001b[0;32m      2\u001b[0m     \u001b[1;32mfrom\u001b[0m \u001b[0mlightlab\u001b[0m\u001b[1;33m.\u001b[0m\u001b[0mlaboratory\u001b[0m\u001b[1;33m.\u001b[0m\u001b[0mstate\u001b[0m \u001b[1;32mimport\u001b[0m \u001b[0mlab\u001b[0m\u001b[1;33m\u001b[0m\u001b[1;33m\u001b[0m\u001b[0m\n\u001b[1;32m----> 3\u001b[1;33m     dualKeithley = DualInstrument(real_obj=lab.instruments_dict['Keithley 23'], \n\u001b[0m\u001b[0;32m      4\u001b[0m                                    virt_obj=VirtualKeithley(myDiode))\n\u001b[0;32m      5\u001b[0m     \u001b[1;32mwith\u001b[0m \u001b[0mdualKeithley\u001b[0m\u001b[1;33m.\u001b[0m\u001b[0masReal\u001b[0m\u001b[1;33m(\u001b[0m\u001b[1;33m)\u001b[0m\u001b[1;33m:\u001b[0m\u001b[1;33m\u001b[0m\u001b[1;33m\u001b[0m\u001b[0m\n",
      "\u001b[1;32mc:\\users\\mrnez\\appdata\\local\\programs\\python\\python38-32\\lib\\site-packages\\lightlab\\laboratory\\__init__.py\u001b[0m in \u001b[0;36m__getitem__\u001b[1;34m(self, key)\u001b[0m\n\u001b[0;32m     24\u001b[0m \u001b[1;33m\u001b[0m\u001b[0m\n\u001b[0;32m     25\u001b[0m     \u001b[1;32mdef\u001b[0m \u001b[0m__getitem__\u001b[0m\u001b[1;33m(\u001b[0m\u001b[0mself\u001b[0m\u001b[1;33m,\u001b[0m \u001b[0mkey\u001b[0m\u001b[1;33m)\u001b[0m\u001b[1;33m:\u001b[0m\u001b[1;33m\u001b[0m\u001b[1;33m\u001b[0m\u001b[0m\n\u001b[1;32m---> 26\u001b[1;33m         \u001b[1;32mreturn\u001b[0m \u001b[0mself\u001b[0m\u001b[1;33m.\u001b[0m\u001b[0m_d\u001b[0m\u001b[1;33m[\u001b[0m\u001b[0mkey\u001b[0m\u001b[1;33m]\u001b[0m\u001b[1;33m\u001b[0m\u001b[1;33m\u001b[0m\u001b[0m\n\u001b[0m\u001b[0;32m     27\u001b[0m \u001b[1;33m\u001b[0m\u001b[0m\n\u001b[0;32m     28\u001b[0m     \u001b[1;32mdef\u001b[0m \u001b[0m__setitem__\u001b[0m\u001b[1;33m(\u001b[0m\u001b[0mself\u001b[0m\u001b[1;33m,\u001b[0m \u001b[0mkey\u001b[0m\u001b[1;33m,\u001b[0m \u001b[0mvalue\u001b[0m\u001b[1;33m)\u001b[0m\u001b[1;33m:\u001b[0m\u001b[1;33m\u001b[0m\u001b[1;33m\u001b[0m\u001b[0m\n",
      "\u001b[1;31mKeyError\u001b[0m: 'Keithley 23'"
     ]
    }
   ],
   "source": [
    "if not virtUtil.virtualOnly:\n",
    "    from lightlab.laboratory.state import lab\n",
    "    dualKeithley = DualInstrument(real_obj=lab.instruments_dict['Keithley 23'], \n",
    "                                   virt_obj=VirtualKeithley(myDiode))\n",
    "    with dualKeithley.asReal():\n",
    "        dualKeithley.setVoltage(0.)\n",
    "        dualKeithley.setProtectionCurrent(50e-3)\n",
    "        print('First guess =', extractThreshold_1(dualKeithley), 'Volts')\n",
    "else:\n",
    "    dualKeithley = DualInstrument(virt_obj=VirtualKeithley(myDiode))"
   ]
  },
  {
   "cell_type": "code",
   "execution_count": 17,
   "metadata": {},
   "outputs": [
    {
     "ename": "NameError",
     "evalue": "name 'dualKeithley' is not defined",
     "output_type": "error",
     "traceback": [
      "\u001b[1;31m---------------------------------------------------------------------------\u001b[0m",
      "\u001b[1;31mNameError\u001b[0m                                 Traceback (most recent call last)",
      "\u001b[1;32m<ipython-input-17-9e22ef9a468b>\u001b[0m in \u001b[0;36m<module>\u001b[1;34m\u001b[0m\n\u001b[1;32m----> 1\u001b[1;33m \u001b[1;32mwith\u001b[0m \u001b[0mdualKeithley\u001b[0m\u001b[1;33m.\u001b[0m\u001b[0masVirtual\u001b[0m\u001b[1;33m(\u001b[0m\u001b[1;33m)\u001b[0m\u001b[1;33m:\u001b[0m\u001b[1;33m\u001b[0m\u001b[1;33m\u001b[0m\u001b[0m\n\u001b[0m\u001b[0;32m      2\u001b[0m     \u001b[0mfoundModel\u001b[0m \u001b[1;33m=\u001b[0m \u001b[0mextractThreshold_2\u001b[0m\u001b[1;33m(\u001b[0m\u001b[0mdualKeithley\u001b[0m\u001b[1;33m)\u001b[0m\u001b[1;33m\u001b[0m\u001b[1;33m\u001b[0m\u001b[0m\n\u001b[0;32m      3\u001b[0m     \u001b[0mprint\u001b[0m\u001b[1;33m(\u001b[0m\u001b[1;34m'The model threshold is'\u001b[0m\u001b[1;33m,\u001b[0m \u001b[0mfoundModel\u001b[0m\u001b[1;33m)\u001b[0m\u001b[1;33m\u001b[0m\u001b[1;33m\u001b[0m\u001b[0m\n\u001b[0;32m      4\u001b[0m \u001b[1;32mwith\u001b[0m \u001b[0mdualKeithley\u001b[0m\u001b[1;33m.\u001b[0m\u001b[0masReal\u001b[0m\u001b[1;33m(\u001b[0m\u001b[1;33m)\u001b[0m\u001b[1;33m:\u001b[0m\u001b[1;33m\u001b[0m\u001b[1;33m\u001b[0m\u001b[0m\n\u001b[0;32m      5\u001b[0m     \u001b[0mfoundDevice\u001b[0m \u001b[1;33m=\u001b[0m \u001b[0mextractThreshold_2\u001b[0m\u001b[1;33m(\u001b[0m\u001b[0mdualKeithley\u001b[0m\u001b[1;33m)\u001b[0m\u001b[1;33m\u001b[0m\u001b[1;33m\u001b[0m\u001b[0m\n",
      "\u001b[1;31mNameError\u001b[0m: name 'dualKeithley' is not defined"
     ]
    }
   ],
   "source": [
    "with dualKeithley.asVirtual():\n",
    "    foundModel = extractThreshold_2(dualKeithley)\n",
    "    print('The model threshold is', foundModel)\n",
    "with dualKeithley.asReal():\n",
    "    foundDevice = extractThreshold_2(dualKeithley)\n",
    "    print('The device threshold is', foundDevice)"
   ]
  },
  {
   "cell_type": "code",
   "execution_count": null,
   "metadata": {},
   "outputs": [],
   "source": []
  }
 ],
 "metadata": {
  "kernelspec": {
   "display_name": "Python 3",
   "language": "python",
   "name": "python3"
  },
  "language_info": {
   "codemirror_mode": {
    "name": "ipython",
    "version": 3
   },
   "file_extension": ".py",
   "mimetype": "text/x-python",
   "name": "python",
   "nbconvert_exporter": "python",
   "pygments_lexer": "ipython3",
   "version": "3.8.5"
  }
 },
 "nbformat": 4,
 "nbformat_minor": 2
}
